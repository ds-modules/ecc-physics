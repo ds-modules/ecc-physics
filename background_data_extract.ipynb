{
 "cells": [
  {
   "cell_type": "code",
   "execution_count": 2,
   "id": "6d7db112-422a-4ab9-8235-09b1c224104d",
   "metadata": {
    "trusted": true
   },
   "outputs": [
    {
     "name": "stdout",
     "output_type": "stream",
     "text": [
      "Extracting /Users/jacob/Desktop/ecc physics/09-20-2006/background-rawdata.zip...\n",
      "Found 925 background files\n",
      "  Loaded 100/925\n",
      "  Loaded 200/925\n",
      "  Loaded 300/925\n",
      "  Loaded 400/925\n",
      "  Loaded 500/925\n",
      "  Loaded 600/925\n",
      "  Loaded 700/925\n",
      "  Loaded 800/925\n",
      "  Loaded 900/925\n",
      "\n",
      "Concatenating 925 files...\n",
      "\n",
      "Background Dataset Created:\n",
      "  Samples: 47,273,698\n",
      "  Duration: 15.76 minutes\n",
      "  Memory: 721 MB\n",
      "\n",
      "  Isd: mean=0.064609, std=0.039479\n",
      "  Vsd: mean=2.748e-08, std=7.738e-09\n"
     ]
    }
   ],
   "source": [
    "import zipfile\n",
    "import numpy as np\n",
    "import pandas as pd\n",
    "from pathlib import Path\n",
    "import tempfile\n",
    "import shutil\n",
    "\n",
    "def load_all_background_files(zip_path):\n",
    "    \"\"\"Load all background files (18:05-18:21) using offset +3\"\"\"\n",
    "    \n",
    "    temp_dir = tempfile.mkdtemp()\n",
    "    \n",
    "    try:\n",
    "        print(f\"Extracting {zip_path}...\")\n",
    "        with zipfile.ZipFile(zip_path, 'r') as zip_ref:\n",
    "            zip_ref.extractall(temp_dir)\n",
    "        \n",
    "        temp_path = Path(temp_dir)\n",
    "        all_files = sorted(temp_path.rglob(\"*.dat\"))\n",
    "        real_files = [f for f in all_files if not f.name.startswith('._')]\n",
    "        \n",
    "        # Filter for background period (18:05-18:21)\n",
    "        background_files = []\n",
    "        for f in real_files:\n",
    "            parts = f.stem.split('.')\n",
    "            if len(parts) >= 4:\n",
    "                try:\n",
    "                    hour, minute = int(parts[2]), int(parts[3])\n",
    "                    if hour == 18 and 5 <= minute <= 21:\n",
    "                        background_files.append(f)\n",
    "                except ValueError:\n",
    "                    continue\n",
    "        \n",
    "        print(f\"Found {len(background_files)} background files\")\n",
    "        \n",
    "        # Load all files\n",
    "        data_chunks = []\n",
    "        for i, filepath in enumerate(background_files):\n",
    "            with open(filepath, 'rb') as f:\n",
    "                raw = f.read()\n",
    "            \n",
    "            marker_pos = raw.find(b\"Isd\\tVsd\")\n",
    "            offset = marker_pos + len(b\"Isd\\tVsd\") + 3  # KEY: +3 offset!\n",
    "            trim_len = len(raw) - offset\n",
    "            trimmed = raw[offset:offset + (trim_len - (trim_len % 8))]\n",
    "            chunk = np.frombuffer(trimmed, dtype='<f4').reshape(-1, 2)\n",
    "            data_chunks.append(chunk)\n",
    "            \n",
    "            if (i + 1) % 100 == 0:\n",
    "                print(f\"  Loaded {i + 1}/{len(background_files)}\")\n",
    "        \n",
    "        print(f\"\\nConcatenating {len(data_chunks)} files...\")\n",
    "        combined = np.vstack(data_chunks)\n",
    "        \n",
    "        # Create DataFrame\n",
    "        background_df = pd.DataFrame({\n",
    "            'time_s': np.arange(len(combined)) * 0.00002,\n",
    "            'Isd': combined[:, 0],\n",
    "            'Vsd': combined[:, 1]\n",
    "        })\n",
    "        \n",
    "        print(f\"\\nBackground Dataset Created:\")\n",
    "        print(f\"  Samples: {len(background_df):,}\")\n",
    "        print(f\"  Duration: {background_df['time_s'].iloc[-1]/60:.2f} minutes\")\n",
    "        print(f\"  Memory: {background_df.memory_usage(deep=True).sum()/1024**2:.0f} MB\")\n",
    "        print(f\"\\n  Isd: mean={background_df['Isd'].mean():.6f}, std={background_df['Isd'].std():.6f}\")\n",
    "        print(f\"  Vsd: mean={background_df['Vsd'].mean():.3e}, std={background_df['Vsd'].std():.3e}\")\n",
    "        \n",
    "        return background_df\n",
    "    \n",
    "    finally:\n",
    "        shutil.rmtree(temp_dir)\n",
    "\n",
    "# Load the dataset\n",
    "background_df = load_all_background_files(\"/Users/jacob/Desktop/ecc physics/09-20-2006/background-rawdata.zip\")"
   ]
  },
  {
   "cell_type": "code",
   "execution_count": 3,
   "id": "0a2c4bb5-1f1e-44b8-b428-6c51598bc093",
   "metadata": {
    "trusted": true
   },
   "outputs": [],
   "source": [
    "# Save to avoid re-processing\n",
    "#background_df.to_parquet('background_data.parquet')\n",
    "# Or CSV (larger file)\n",
    "background_df.to_csv('background_data.csv', index=False)"
   ]
  }
 ],
 "metadata": {
  "kernelspec": {
   "display_name": "base",
   "language": "python",
   "name": "python3"
  },
  "language_info": {
   "codemirror_mode": {
    "name": "ipython",
    "version": 3
   },
   "file_extension": ".py",
   "mimetype": "text/x-python",
   "name": "python",
   "nbconvert_exporter": "python",
   "pygments_lexer": "ipython3",
   "version": "3.8.8"
  }
 },
 "nbformat": 4,
 "nbformat_minor": 5
}
